{
 "cells": [
  {
   "cell_type": "code",
   "execution_count": null,
   "id": "14a25b76",
   "metadata": {},
   "outputs": [],
   "source": [
    "import pandas as pd\n",
    "from sklearn.model_selection import train_test_split\n",
    "from sklearn.tree import DecisionTreeClassifier, plot_tree\n",
    "from sklearn.preprocessing import LabelEncoder\n",
    "from sklearn.metrics import accuracy_score, classification_report, confusion_matrix\n",
    "import matplotlib.pyplot as plt\n",
    "import seaborn as sns"
   ]
  },
  {
   "cell_type": "code",
   "execution_count": null,
   "id": "be9ccfe1",
   "metadata": {},
   "outputs": [],
   "source": [
    "df = pd.read_csv(\"data.csv\")"
   ]
  },
  {
   "cell_type": "code",
   "execution_count": null,
   "id": "2762c933",
   "metadata": {},
   "outputs": [],
   "source": [
    "df = df.drop(columns=[\"ApplicationDate\", \"LoanApproved\", \"RiskScore\"])"
   ]
  },
  {
   "cell_type": "code",
   "execution_count": null,
   "id": "4e086614",
   "metadata": {},
   "outputs": [],
   "source": [
    "df.head(5)"
   ]
  },
  {
   "cell_type": "code",
   "execution_count": null,
   "id": "f6d113db",
   "metadata": {},
   "outputs": [],
   "source": [
    "print(df.columns.tolist())\n",
    "def credit_score_category(score):\n",
    "    if pd.isna(score):\n",
    "        return \"Unknown\"\n",
    "    elif score < 580:\n",
    "        return \"Poor\"\n",
    "    elif score < 670:\n",
    "        return \"Fair\"\n",
    "    elif score < 740:\n",
    "        return \"Good\"\n",
    "    else:\n",
    "        return \"Excellent\"\n",
    "if 'CreditScore' in df.columns:\n",
    "    df['CreditScoreCategory'] = df['CreditScore'].apply(credit_score_category)\n",
    "    df = df.drop(columns=['CreditScore'])\n",
    "else:\n",
    "    print(\"Column 'CreditScore' not found in DataFrame\")\n",
    "\n"
   ]
  }
 ],
 "metadata": {
  "kernelspec": {
   "display_name": "Python (pyvenv)",
   "language": "python",
   "name": "pyvenv"
  },
  "language_info": {
   "codemirror_mode": {
    "name": "ipython",
    "version": 3
   },
   "file_extension": ".py",
   "mimetype": "text/x-python",
   "name": "python",
   "nbconvert_exporter": "python",
   "pygments_lexer": "ipython3",
   "version": "3.11.5"
  }
 },
 "nbformat": 4,
 "nbformat_minor": 5
}
