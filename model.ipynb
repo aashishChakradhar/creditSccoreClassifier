{
 "cells": [
  {
   "cell_type": "markdown",
   "id": "bd51c132",
   "metadata": {},
   "source": [
    "###   RiskWiz(Credit Score Classifier)\n",
    "***Wizardry in predicting loan risk: low, medium, or high!***\n",
    "\n",
    "This script:\n",
    "- Loads and preprocesses a **financial dataset**\n",
    "- Trains a **Decision Tree Classifier** to classify loan applicants *(low risk, Medium risk and High risk)*\n",
    "- Evaluates model performance\n",
    "- Accepts **input** to predict their risk category interactively\n"
   ]
  },
  {
   "cell_type": "code",
   "execution_count": 1,
   "id": "085075f5",
   "metadata": {},
   "outputs": [],
   "source": [
    "#  Import  libraries\n",
    "import pandas as pd\n",
    "from sklearn.model_selection import train_test_split\n",
    "from sklearn.tree import DecisionTreeClassifier\n",
    "from sklearn.metrics import accuracy_score, classification_report"
   ]
  },
  {
   "cell_type": "code",
   "execution_count": 2,
   "id": "478d8ce2",
   "metadata": {},
   "outputs": [],
   "source": [
    "\n",
    "# ------------------------------------------\n",
    "# Load and Preprocess the Dataset\n",
    "# ------------------------------------------\n",
    "\n",
    "# Load dataset\n",
    "df = pd.read_csv(\"data.csv\")\n",
    "\n",
    "# Drop irrelevant columns if present\n",
    "columns_to_drop = [\"ApplicationDate\", \"RiskScore\"]\n",
    "df = df.drop(columns=[col for col in columns_to_drop if col in df.columns])\n",
    "\n",
    "# Generate 3-class RiskLabel from CreditScore\n",
    "# RiskLabel from CreditScore (but do NOT use CreditScore as a feature)\n",
    "if 'RiskLabel' not in df.columns:\n",
    "    df['RiskLabel'] = df['CreditScore'].apply(lambda x: 'High Risk' if x < 580 else 'Low Risk')"
   ]
  },
  {
   "cell_type": "code",
   "execution_count": 3,
   "id": "76bf733d",
   "metadata": {},
   "outputs": [],
   "source": [
    "\n",
    "# ------------------------------------------\n",
    "#  Feature Selection\n",
    "# ------------------------------------------\n",
    "\n",
    "# Select relevant features for model training\n",
    "features = ['Age', \n",
    "            'MonthlyIncome', 'SavingsAccountBalance',\n",
    "            'LoanAmount', 'LoanDuration', 'BaseInterestRate', 'InterestRate', \n",
    "            'MonthlyDebtPayments', 'TotalLiabilities',\n",
    "            'TotalAssets', 'NetWorth']\n",
    "\n",
    "df = df[features + ['RiskLabel']]"
   ]
  },
  {
   "cell_type": "code",
   "execution_count": 4,
   "id": "2e219a5e",
   "metadata": {},
   "outputs": [],
   "source": [
    "# ------------------------------------------\n",
    "#  Train-Test Split\n",
    "# ------------------------------------------\n",
    "\n",
    "X = df[features]\n",
    "y = df['RiskLabel']\n",
    "\n",
    "# Split into training and testing sets (80%-20%)\n",
    "X_train, X_test, y_train, y_test = train_test_split(\n",
    "    X, y, test_size=0.2, random_state=42\n",
    ")"
   ]
  },
  {
   "cell_type": "code",
   "execution_count": 5,
   "id": "023ce783",
   "metadata": {},
   "outputs": [
    {
     "name": "stdout",
     "output_type": "stream",
     "text": [
      "\n",
      " Model Accuracy: 0.989875\n",
      "\n",
      " Classification Report:\n",
      "               precision    recall  f1-score   support\n",
      "\n",
      "   High Risk       0.99      0.99      0.99     20532\n",
      "    Low Risk       0.99      0.99      0.99     19468\n",
      "\n",
      "    accuracy                           0.99     40000\n",
      "   macro avg       0.99      0.99      0.99     40000\n",
      "weighted avg       0.99      0.99      0.99     40000\n",
      "\n"
     ]
    }
   ],
   "source": [
    "\n",
    "# ------------------------------------------\n",
    "#  Model Training\n",
    "# ------------------------------------------\n",
    "\n",
    "model = DecisionTreeClassifier(random_state=42)\n",
    "model.fit(X_train, y_train)\n",
    "\n",
    "# ------------------------------------------\n",
    "#  Model Evaluation\n",
    "# ------------------------------------------\n",
    "\n",
    "y_pred = model.predict(X_test)\n",
    "\n",
    "# Print evaluation metrics\n",
    "print(\"\\n Model Accuracy:\", accuracy_score(y_test, y_pred))\n",
    "print(\"\\n Classification Report:\\n\", classification_report(y_test, y_pred))"
   ]
  },
  {
   "cell_type": "code",
   "execution_count": 6,
   "id": "7b300ab6",
   "metadata": {},
   "outputs": [
    {
     "name": "stdout",
     "output_type": "stream",
     "text": [
      "\n",
      "===  Predict Risk Category ===\n",
      "   Age  MonthlyIncome  SavingsAccountBalance  LoanAmount  LoanDuration  \\\n",
      "0   33        2050.25                 3372.0     39325.0            48   \n",
      "\n",
      "   BaseInterestRate  InterestRate  MonthlyDebtPayments  TotalLiabilities  \\\n",
      "0               0.3           0.3                274.0           19329.0   \n",
      "\n",
      "   TotalAssets  NetWorth  \n",
      "0      24882.0    5553.0  \n",
      "\n",
      "Risk Category: High Risk\n"
     ]
    }
   ],
   "source": [
    "\n",
    "# ------------------------------------------\n",
    "#  Predict with User Input\n",
    "# ------------------------------------------\n",
    "\n",
    "print(\"\\n===  Predict Risk Category ===\")\n",
    "\n",
    "def get_user_input():\n",
    "    \"\"\"\n",
    "    Collects user input for features used in prediction.\n",
    "    Returns:\n",
    "        pd.DataFrame: Single-row DataFrame containing user inputs.\n",
    "    \"\"\"\n",
    "    user_data = {}\n",
    "\n",
    "    # Personal & Employment Information\n",
    "    user_data['Age'] = int(input(\"Age(Years): \"))\n",
    "\n",
    "    # Income & Account Balances\n",
    "    user_data['MonthlyIncome'] = float(input(\"Monthly Income: \"))\n",
    "    user_data['SavingsAccountBalance'] = float(input(\"Savings Account Balance: \"))\n",
    "\n",
    "    # Loan Information\n",
    "    user_data['LoanAmount'] = float(input(\"Loan Amount: \"))\n",
    "    user_data['LoanDuration'] = int(input(\"Loan Duration (months): \"))\n",
    "    user_data['BaseInterestRate'] = float(input(\"Base Interest Rate (e.g., 0.05 for 5%): \"))\n",
    "    user_data['InterestRate'] = float(input(\"Interest Rate (e.g., 0.05): \"))\n",
    "    \n",
    "    # Debt & Liabilities\n",
    "    user_data['MonthlyDebtPayments'] = float(input(\"Monthly Debt Payments: \"))\n",
    "    user_data['TotalLiabilities'] = float(input(\"Total Liabilities: \"))\n",
    "\n",
    "    # Assets & Net Worth\n",
    "    user_data['TotalAssets'] = float(input(\"Total Assets: \"))\n",
    "    user_data['NetWorth'] = float(input(\"Net Worth: \"))\n",
    "    \n",
    "    return pd.DataFrame([user_data])\n",
    "\n",
    "# Collect input and make prediction\n",
    "user_df = get_user_input()\n",
    "print(user_df)\n",
    "prediction = model.predict(user_df)\n",
    "print(\"\\nRisk Category:\", prediction[0])\n"
   ]
  },
  {
   "cell_type": "code",
   "execution_count": 7,
   "id": "1fd5ba7b",
   "metadata": {},
   "outputs": [
    {
     "name": "stdout",
     "output_type": "stream",
     "text": [
      "\n",
      "Model saved as 'credit_risk_model.pkl'\n"
     ]
    }
   ],
   "source": [
    "# To save model\n",
    "\n",
    "import joblib\n",
    "\n",
    "# Save the trained model to a file\n",
    "joblib.dump(model, 'credit_risk_model.pkl')\n",
    "print(\"\\nModel saved as 'credit_risk_model.pkl'\")\n"
   ]
  }
 ],
 "metadata": {
  "kernelspec": {
   "display_name": "env",
   "language": "python",
   "name": "python3"
  },
  "language_info": {
   "codemirror_mode": {
    "name": "ipython",
    "version": 3
   },
   "file_extension": ".py",
   "mimetype": "text/x-python",
   "name": "python",
   "nbconvert_exporter": "python",
   "pygments_lexer": "ipython3",
   "version": "3.11.5"
  }
 },
 "nbformat": 4,
 "nbformat_minor": 5
}
