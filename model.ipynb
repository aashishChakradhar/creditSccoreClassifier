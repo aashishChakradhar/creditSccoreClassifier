{
 "cells": [
  {
   "cell_type": "markdown",
   "id": "bd51c132",
   "metadata": {},
   "source": [
    "###   Riskify(Credit Score Classifier)\n",
    "***Simplify risk, amplify trust!***\n",
    "\n",
    "This script:\n",
    "- Loads and preprocesses a **financial dataset**\n",
    "- Trains a **Decision Tree Classifier** to classify Risk on giving loan to loan applicants *(Risky and Not Risky)*\n",
    "- Evaluates model performance\n",
    "- Accepts **input** to predict their risk category interactively\n"
   ]
  },
  {
   "cell_type": "code",
   "execution_count": 1,
   "id": "085075f5",
   "metadata": {},
   "outputs": [],
   "source": [
    "#  Import  libraries\n",
    "import pandas as pd\n",
    "from sklearn.model_selection import train_test_split\n",
    "from sklearn.tree import DecisionTreeClassifier\n",
    "from sklearn.metrics import accuracy_score, classification_report, confusion_matrix\n",
    "import seaborn as sns\n",
    "import matplotlib.pyplot as plt\n",
    "\n",
    "from sklearn.ensemble import RandomForestClassifier"
   ]
  },
  {
   "cell_type": "code",
   "execution_count": 2,
   "id": "478d8ce2",
   "metadata": {},
   "outputs": [],
   "source": [
    "# ------------------------------------------\n",
    "# Load and Preprocess the Dataset\n",
    "# ------------------------------------------\n",
    "\n",
    "# Load dataset\n",
    "df = pd.read_csv(\"data.csv\")\n",
    "\n",
    "# Drop irrelevant columns if present\n",
    "columns_to_drop = [\"ApplicationDate\", \"RiskScore\"]\n",
    "df = df.drop(columns=[col for col in columns_to_drop if col in df.columns])\n",
    "\n",
    "# Generate 3-class RiskLabel from CreditScore\n",
    "# RiskLabel from CreditScore (but NOT use CreditScore as a feature)\n",
    "if 'RiskLabel' not in df.columns:\n",
    "    df['RiskLabel'] = df['CreditScore'].apply(lambda x: 'Risky' if x < 580 else 'Not Risky')"
   ]
  },
  {
   "cell_type": "code",
   "execution_count": 3,
   "id": "76bf733d",
   "metadata": {},
   "outputs": [],
   "source": [
    "# ------------------------------------------\n",
    "#  Feature Selection\n",
    "# ------------------------------------------\n",
    "\n",
    "# Select relevant features for model training\n",
    "features = [\n",
    "    'Age', 'MonthlyIncome','TotalDebtToIncomeRatio',\n",
    "            'LoanAmount', 'LoanDuration', 'BaseInterestRate', \n",
    "            'MonthlyDebtPayments', 'TotalLiabilities','MonthlyLoanPayment',\n",
    "            'TotalAssets', 'NetWorth'\n",
    "        ]\n",
    "\n",
    "df = df[features + ['RiskLabel']]"
   ]
  },
  {
   "cell_type": "code",
   "execution_count": 4,
   "id": "2e219a5e",
   "metadata": {},
   "outputs": [],
   "source": [
    "# ------------------------------------------\n",
    "#  Train-Test Split\n",
    "# ------------------------------------------\n",
    "\n",
    "X = df[features]\n",
    "y = df['RiskLabel']\n",
    "\n",
    "# Split into training and testing sets (80%-20%)\n",
    "X_train, X_test, y_train, y_test = train_test_split(\n",
    "    X, y, test_size=0.2, random_state=42\n",
    ")"
   ]
  },
  {
   "cell_type": "code",
   "execution_count": 7,
   "id": "023ce783",
   "metadata": {},
   "outputs": [
    {
     "name": "stdout",
     "output_type": "stream",
     "text": [
      "\n",
      " Model Accuracy: 0.99045\n",
      "\n",
      " Classification Report:\n",
      "               precision    recall  f1-score   support\n",
      "\n",
      "   Not Risky       0.99      0.99      0.99     19468\n",
      "       Risky       0.99      0.99      0.99     20532\n",
      "\n",
      "    accuracy                           0.99     40000\n",
      "   macro avg       0.99      0.99      0.99     40000\n",
      "weighted avg       0.99      0.99      0.99     40000\n",
      "\n"
     ]
    }
   ],
   "source": [
    "# ------------------------------------------\n",
    "#  Decision Tree Model Training\n",
    "# ------------------------------------------\n",
    "\n",
    "model = DecisionTreeClassifier(random_state=42)\n",
    "model.fit(X_train, y_train)\n",
    "\n",
    "# ------------------------------------------\n",
    "#  Model Evaluation\n",
    "# ------------------------------------------\n",
    "\n",
    "y_pred = model.predict(X_test)\n",
    "\n",
    "# Print evaluation metrics\n",
    "print(\"\\n Model Accuracy:\", accuracy_score(y_test, y_pred))\n",
    "print(\"\\n Classification Report:\\n\", classification_report(y_test, y_pred))"
   ]
  },
  {
   "cell_type": "code",
   "execution_count": 8,
   "id": "0de9bd99",
   "metadata": {},
   "outputs": [
    {
     "data": {
      "image/png": "[encoded data removed]",
      "text/plain": [
       "<Figure size 640x480 with 2 Axes>"
      ]
     },
     "metadata": {},
     "output_type": "display_data"
    }
   ],
   "source": [
    "cm = confusion_matrix(y_test, y_pred, labels=model.classes_)\n",
    "sns.heatmap(cm, annot=True, fmt='d', xticklabels=model.classes_, yticklabels=model.classes_)\n",
    "plt.xlabel('Predicted')\n",
    "plt.ylabel('Actual')\n",
    "plt.title('Confusion Matrix')\n",
    "plt.show()"
   ]
  },
  {
   "cell_type": "code",
   "execution_count": null,
   "id": "6a2bc0d0",
   "metadata": {},
   "outputs": [],
   "source": [
    "from sklearn.tree import export_text\n",
    "\n",
    "# Print decision tree rules\n",
    "tree_rules = export_text(model, feature_names=features)\n",
    "print(tree_rules)"
   ]
  },
  {
   "cell_type": "code",
   "execution_count": null,
   "id": "e4422136",
   "metadata": {},
   "outputs": [],
   "source": [
    "# # ------------------------------------------\n",
    "# #  Random Forest Model Training\n",
    "# # ------------------------------------------\n",
    "# modelR = RandomForestClassifier(\n",
    "#     n_estimators=100,        # Number of trees in the forest\n",
    "#     max_depth=15,            # Maximum depth of each tree\n",
    "#     random_state=42,\n",
    "#     n_jobs=-1                # Use all available CPU cores\n",
    "# )\n",
    "# modelR.fit(X_train, y_train)\n",
    "\n",
    "\n",
    "# # ------------------------------------------\n",
    "# #  Model Perdiction\n",
    "# # ------------------------------------------\n",
    "# y_pred = modelR.predict(X_test)\n",
    "\n",
    "# # Print evaluation metrics\n",
    "# print(\"Random Forest Model Accuracy:\", accuracy_score(y_test, y_pred))\n",
    "# print(\"\\nClassification Report:\\n\", classification_report(y_test, y_pred))"
   ]
  },
  {
   "cell_type": "code",
   "execution_count": null,
   "id": "e1c8825b",
   "metadata": {},
   "outputs": [],
   "source": [
    "# # ------------------------------------------\n",
    "# #  KNN Model Training\n",
    "# # ------------------------------------------\n",
    "# scaler = StandardScaler()\n",
    "# X_scaled = scaler.fit_transform(X)\n",
    "\n",
    "# # Train-test split\n",
    "# X_train, X_test, y_train, y_test = train_test_split(\n",
    "#     X_scaled, y, test_size=0.2, random_state=42\n",
    "# )\n",
    "\n",
    "# # Initialize and train KNN model\n",
    "# knn = KNeighborsClassifier(n_neighbors=18)  # You can tune n_neighbors\n",
    "# knn.fit(X_train, y_train)\n",
    "\n",
    "# # ------------------------------------------\n",
    "# #  Model Perdiction\n",
    "# # ------------------------------------------\n",
    "# y_pred = knn.predict(X_test)\n",
    "\n",
    "# print(\"KNN Model Accuracy:\", accuracy_score(y_test, y_pred))\n",
    "# print(\"\\nClassification Report:\\n\", classification_report(y_test, y_pred))"
   ]
  },
  {
   "cell_type": "code",
   "execution_count": null,
   "id": "7b300ab6",
   "metadata": {},
   "outputs": [],
   "source": [
    "\n",
    "# # ------------------------------------------\n",
    "# #  Predict with User Input\n",
    "# # ------------------------------------------\n",
    "\n",
    "# print(\"\\n===  Predicting Risk Category ===\")\n",
    "\n",
    "# def get_user_input():\n",
    "#     \"\"\"\n",
    "#     Collects user input for features used in prediction.\n",
    "#     Returns:\n",
    "#         pd.DataFrame: Single-row DataFrame containing user inputs.\n",
    "#     \"\"\"\n",
    "#     user_data = {}\n",
    "\n",
    "#     # Personal & Employment Information\n",
    "#     user_data['Age'] = int(input(\"Age(Years): \"))\n",
    "\n",
    "#     # Income & Account Balances\n",
    "#     user_data['MonthlyIncome'] = float(input(\"Monthly Income: \"))\n",
    "#     user_data['SavingsAccountBalance'] = float(input(\"Savings Account Balance: \"))\n",
    "\n",
    "#     # Loan Information\n",
    "#     user_data['LoanAmount'] = float(input(\"Loan Amount: \"))\n",
    "#     user_data['LoanDuration'] = int(input(\"Loan Duration (months): \"))\n",
    "#     user_data['BaseInterestRate'] = float(input(\"Base Interest Rate (e.g., 0.05 for 5%): \"))\n",
    "#     user_data['InterestRate'] = float(input(\"Interest Rate (e.g., 0.05): \"))\n",
    "    \n",
    "#     # Debt & Liabilities\n",
    "#     user_data['MonthlyDebtPayments'] = float(input(\"Monthly Debt Payments: \"))\n",
    "#     user_data['TotalLiabilities'] = float(input(\"Total Liabilities: \"))\n",
    "\n",
    "#     # Assets & Net Worth\n",
    "#     user_data['TotalAssets'] = float(input(\"Total Assets: \"))\n",
    "#     user_data['NetWorth'] = float(input(\"Net Worth: \"))\n",
    "    \n",
    "#     return pd.DataFrame([user_data])\n",
    "\n",
    "# # Collect input and make prediction\n",
    "# user_df = get_user_input()\n",
    "# print(user_df)\n",
    "# prediction = model.predict(user_df)\n",
    "# print(\"\\nRisk Category:\", prediction[0])\n"
   ]
  },
  {
   "cell_type": "code",
   "execution_count": null,
   "id": "1fd5ba7b",
   "metadata": {},
   "outputs": [],
   "source": [
    "# # To save model\n",
    "\n",
    "# import joblib\n",
    "\n",
    "# # Save the trained model to a file\n",
    "# joblib.dump(model, 'credit_risk_model.pkl')\n",
    "# print(\"\\nModel saved as 'credit_risk_model.pkl'\")\n",
    "\n",
    "# joblib.dump(modelR, 'random_forest_model.pkl')\n",
    "# print(\"\\nModel saved as 'random_forest_model.pkl'\")\n",
    "\n",
    "# joblib.dump(knn, 'knn_model.pkl')\n",
    "# print(\"\\nModel saved as 'knn_model.pkl'\")"
   ]
  }
 ],
 "metadata": {
  "kernelspec": {
   "display_name": "myenv",
   "language": "python",
   "name": "python3"
  },
  "language_info": {
   "codemirror_mode": {
    "name": "ipython",
    "version": 3
   },
   "file_extension": ".py",
   "mimetype": "text/x-python",
   "name": "python",
   "nbconvert_exporter": "python",
   "pygments_lexer": "ipython3",
   "version": "3.13.3"
  }
 },
 "nbformat": 4,
 "nbformat_minor": 5
}
